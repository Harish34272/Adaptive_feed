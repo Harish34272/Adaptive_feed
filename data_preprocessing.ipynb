{
  "nbformat": 4,
  "nbformat_minor": 0,
  "metadata": {
    "colab": {
      "provenance": [],
      "authorship_tag": "ABX9TyOLlBS2DL3HGjTF1mhQRsEa",
      "include_colab_link": true
    },
    "kernelspec": {
      "name": "python3",
      "display_name": "Python 3"
    },
    "language_info": {
      "name": "python"
    }
  },
  "cells": [
    {
      "cell_type": "markdown",
      "metadata": {
        "id": "view-in-github",
        "colab_type": "text"
      },
      "source": [
        "<a href=\"https://colab.research.google.com/github/Harish34272/Adaptive_feed/blob/sub-branch/data_preprocessing.ipynb\" target=\"_parent\"><img src=\"https://colab.research.google.com/assets/colab-badge.svg\" alt=\"Open In Colab\"/></a>"
      ]
    },
    {
      "cell_type": "code",
      "execution_count": null,
      "metadata": {
        "id": "ODoLyE3aLdiM"
      },
      "outputs": [],
      "source": [
        "import pandas as pd\n",
        "import numpy as np\n",
        "from pathlib import Path\n",
        "from sklearn.pipeline import Pipeline\n",
        "from sklearn.preprocessing import FunctionTransformer, MinMaxScaler, StandardScaler\n",
        "from sklearn.model_selection import train_test_split\n",
        "from joblib import load\n",
        "import joblib"
      ]
    },
    {
      "cell_type": "code",
      "source": [
        "from google.colab import drive\n",
        "drive.mount('/content/drive')"
      ],
      "metadata": {
        "colab": {
          "base_uri": "https://localhost:8080/"
        },
        "id": "fQFODBxOLjbn",
        "outputId": "559013c6-7c11-411a-ac3b-bd2f566f1017"
      },
      "execution_count": null,
      "outputs": [
        {
          "output_type": "stream",
          "name": "stdout",
          "text": [
            "Drive already mounted at /content/drive; to attempt to forcibly remount, call drive.mount(\"/content/drive\", force_remount=True).\n"
          ]
        }
      ]
    },
    {
      "cell_type": "code",
      "source": [
        "BASE_DIR = Path(\"/content/drive/MyDrive/adaptive-feeding/combined_csv\")\n",
        "OUT_DIR  = BASE_DIR / \"preprocessing\"\n",
        "OUT_DIR.mkdir(exist_ok=True, parents=True)"
      ],
      "metadata": {
        "id": "LtWQpoSiRCPl"
      },
      "execution_count": null,
      "outputs": []
    },
    {
      "cell_type": "code",
      "source": [
        "COST_COL = \"Cost/kg\"\n",
        "ANIMALS = {\n",
        "    \"Fish\": {\n",
        "        \"energy_cols\": [\"DE salmonids kcal/kg\", \"DE salmonids MJ/kg\"],\n",
        "        \"percent_cols\": [\"ND salmonids %\", \"ED salmonids %\"],\n",
        "        \"mass_cols\": []\n",
        "    },\n",
        "    \"Pig\": {\n",
        "        \"energy_cols\": [\n",
        "            \"DE growing pig kcal/kg\", \"ME growing pig kcal/kg\", \"NE growing pig kcal/kg\",\n",
        "            \"DE adult pig kcal/kg\",   \"ME adult pig kcal/kg\",   \"NE adult pig kcal/kg\",\n",
        "            \"DE growing pig MJ/kg\"\n",
        "        ],\n",
        "        \"percent_cols\": [],\n",
        "        \"mass_cols\": []\n",
        "    },\n",
        "    \"Poultry\": {\n",
        "        \"energy_cols\": [\n",
        "            \"AMEn cockerel kcal/kg\", \"AMEn broiler kcal/kg\",\n",
        "            \"AMEn cockerel MJ/kg\",   \"AMEn broiler MJ/kg\",\n",
        "            \"AMEn cockerel ground kcal/kg\" , \"AMEn cockerel pelleted kcal/kg\",\n",
        "            \"AMEn broiler ground kcal/kg\" , \"AMEn broiler pelleted kcal/kg\"\n",
        "        ],\n",
        "        \"percent_cols\": [],\n",
        "        \"mass_cols\": [\"Avail. P cockerel g/kg\", \"Avail. P broiler g/kg\"]\n",
        "\n",
        "    },\n",
        "    \"Rabbit\": {\n",
        "        \"energy_cols\": [\n",
        "            \"DE (kcal) kcal/kg\", \"ME rabbit kcal/kg\",\n",
        "            \"DE rabbit MJ/kg\",   \"ME rabbit MJ/kg\"\n",
        "        ],\n",
        "        \"percent_cols\": [\"ND rabbit %\", \"ED rabbit %\"],\n",
        "        \"mass_cols\": []\n",
        "    },\n",
        "    }\n"
      ],
      "metadata": {
        "id": "yA9R8NlDRrLj"
      },
      "execution_count": null,
      "outputs": []
    },
    {
      "cell_type": "code",
      "source": [
        "MJ_TO_KCAL = 239.005736\n",
        "Z_DETECT = 2\n",
        "Z_CLIP = 2\n",
        "TEST_SIZE = 0.1\n",
        "VAL_SIZE = 0.1\n",
        "TRAIN_SIZE = 0.8\n",
        "RNG = 42"
      ],
      "metadata": {
        "id": "o8uvpUpxS8du"
      },
      "execution_count": null,
      "outputs": []
    },
    {
      "cell_type": "code",
      "source": [
        "dirs = [OUT_DIR, OUT_DIR / \"train\", OUT_DIR / \"test\" , OUT_DIR/\"val\" , OUT_DIR/\"scalers\"]\n",
        "for d in dirs:\n",
        "    d.mkdir(exist_ok=True, parents=True)"
      ],
      "metadata": {
        "id": "N4SyP5f3W1Ol"
      },
      "execution_count": null,
      "outputs": []
    },
    {
      "cell_type": "code",
      "source": [
        "def preprocess(df:pd.DataFrame , energy_cols , percent_cols , mass_cols , cost_col):\n",
        "    feat = df[energy_cols + percent_cols +mass_cols+ [cost_col]].copy()\n",
        "\n",
        "    #converting MJ to KCAL\n",
        "    mj_cols = [c for c in energy_cols if \"MJ\" in c]\n",
        "    feat[mj_cols] = feat[mj_cols] * MJ_TO_KCAL\n",
        "\n",
        "    #convert percent to decimals(0-1)\n",
        "    feat[percent_cols] = feat[percent_cols]/100.0\n",
        "\n",
        "    mask = feat.notnull().astype(int)\n",
        "    mask_cols = [f\"{c}_mask\" for c in feat.columns]\n",
        "    mask.columns = mask_cols\n",
        "    feat = feat.fillna(0)\n",
        "\n",
        "    energy_pipe = Pipeline([\n",
        "        ('log1p', FunctionTransformer(np.log1p, validate=False)),\n",
        "        ('Standard Scaler', StandardScaler())\n",
        "    ])\n",
        "    feat[energy_cols] = energy_pipe.fit_transform(feat[energy_cols])\n",
        "\n",
        "    mass_pipe = None\n",
        "    if mass_cols:\n",
        "        mass_pipe = Pipeline([('Standard Scaler', StandardScaler())])\n",
        "        feat[mass_cols] = mass_pipe.fit_transform(feat[mass_cols])\n",
        "\n",
        "    cost_pipe = Pipeline([\n",
        "        ('log1p', FunctionTransformer(np.log1p, validate=False)),\n",
        "        ('Standard Scaler', StandardScaler())\n",
        "    ])\n",
        "    feat[cost_col] = cost_pipe.fit_transform(feat[[cost_col]])\n",
        "    out = pd.concat([feat , mask] , axis = 1)\n",
        "    scalers = {'energy': energy_pipe, 'mass': mass_pipe, 'cost': cost_pipe}\n",
        "    return out, scalers"
      ],
      "metadata": {
        "id": "3oiFZNueW4Ng"
      },
      "execution_count": null,
      "outputs": []
    },
    {
      "cell_type": "code",
      "source": [
        "all_data = {}\n",
        "for animal, specs in ANIMALS.items():\n",
        "    dfs = []\n",
        "    for csv_file in sorted(BASE_DIR.glob(\"*_combined1.csv\")):\n",
        "        df = pd.read_csv(csv_file)\n",
        "        df.columns = df.columns.str.strip()\n",
        "        df = df[df[\"Animal\"] == animal]\n",
        "        dfs.append(df)\n",
        "    full_df = pd.concat(dfs, ignore_index=True)\n",
        "\n",
        "    # Preprocess features\n",
        "    X_scaled, scalers = preprocess(\n",
        "        full_df, specs[\"energy_cols\"], specs[\"percent_cols\"], specs[\"mass_cols\"] , COST_COL\n",
        "    )\n",
        "    # Replace raw with scaled for selected cols\n",
        "    cols_to_replace = specs[\"energy_cols\"] + specs[\"percent_cols\"] + specs[\"mass_cols\"] + [COST_COL]\n",
        "    full_df.loc[:, cols_to_replace] = X_scaled[cols_to_replace]\n",
        "\n",
        "\n",
        "    # Select final columns\n",
        "    cols = [\"Animal\", \"Feed Category\", \"Feed\"] + specs[\"energy_cols\"] + specs[\"percent_cols\"] + specs[\"mass_cols\"] + [COST_COL]\n",
        "    processed_df = full_df[cols]\n",
        "    all_data[animal] = processed_df\n",
        "\n",
        "    # Save processed\n",
        "    processed_df.to_csv(OUT_DIR / f\"{animal}_processed.csv\", index=False)\n",
        "    print(f\"Saved processed: {animal} ({len(processed_df)} rows)\")\n"
      ],
      "metadata": {
        "id": "7SUhG_7TXfDY",
        "colab": {
          "base_uri": "https://localhost:8080/"
        },
        "outputId": "79ffc124-0369-4b50-c70c-58723960257e"
      },
      "execution_count": null,
      "outputs": [
        {
          "output_type": "stream",
          "name": "stdout",
          "text": [
            "Saved processed: Fish (153 rows)\n",
            "Saved processed: Pig (125 rows)\n",
            "Saved processed: Poultry (118 rows)\n",
            "Saved processed: Rabbit (125 rows)\n"
          ]
        }
      ]
    },
    {
      "cell_type": "code",
      "source": [
        "from sklearn.model_selection import train_test_split\n",
        "\n",
        "def safe_stratified_split(df, strat_col, test_size, random_state):\n",
        "    vc = df[strat_col].value_counts()\n",
        "    if (vc < 2).any():\n",
        "        # too few for proper stratify: do random split\n",
        "        return train_test_split(df, test_size=test_size,\n",
        "                                random_state=random_state,\n",
        "                                shuffle=True)\n",
        "    else:\n",
        "        return train_test_split(df, test_size=test_size,\n",
        "                                random_state=random_state,\n",
        "                                stratify=df[strat_col])\n"
      ],
      "metadata": {
        "id": "9d4jLq_PPJcp"
      },
      "execution_count": null,
      "outputs": []
    },
    {
      "cell_type": "code",
      "source": [
        "from sklearn.model_selection import train_test_split\n",
        "\n",
        "for animal, df in all_data.items():\n",
        "    stratify_col = df['Feed Category']  if df['Feed Category'].nunique() > 1 else None\n",
        "\n",
        "    # First split: train (80%) vs temp (20%)\n",
        "    train_df, temp_df = safe_stratified_split(\n",
        "        df, 'Feed Category', test_size=TEST_SIZE+VAL_SIZE, random_state=RNG\n",
        "    )\n",
        "    val_df, test_df = safe_stratified_split(\n",
        "        temp_df, 'Feed Category', test_size=0.5, random_state=RNG\n",
        "    )\n",
        "\n",
        "\n",
        "    # Reset indices\n",
        "    train_df.reset_index(drop=True, inplace=True)\n",
        "    val_df.reset_index(drop=True, inplace=True)\n",
        "    test_df.reset_index(drop=True, inplace=True)\n",
        "\n",
        "    # Save splits\n",
        "    train_df.to_csv(OUT_DIR / \"train\" / f\"{animal}_train.csv\", index=False)\n",
        "    val_df.to_csv(OUT_DIR / \"val\" / f\"{animal}_val.csv\", index=False)\n",
        "    test_df.to_csv(OUT_DIR / \"test\" / f\"{animal}_test.csv\", index=False)\n",
        "    joblib.dump(scalers, OUT_DIR / \"scalers\" / f\"{animal}_scalers.pkl\")\n",
        "    print(f\"{animal}: {len(train_df)} train / {len(val_df)} val / {len(test_df)} test\")\n"
      ],
      "metadata": {
        "colab": {
          "base_uri": "https://localhost:8080/"
        },
        "id": "uuMitOHd0_Bv",
        "outputId": "a1ef46f6-45e1-445b-e01a-75e66bd1bcbc"
      },
      "execution_count": null,
      "outputs": [
        {
          "output_type": "stream",
          "name": "stdout",
          "text": [
            "Fish: 122 train / 15 val / 16 test\n",
            "Pig: 100 train / 12 val / 13 test\n",
            "Poultry: 94 train / 12 val / 12 test\n",
            "Rabbit: 100 train / 12 val / 13 test\n"
          ]
        }
      ]
    },
    {
      "cell_type": "code",
      "source": [],
      "metadata": {
        "id": "ImTeVOzT-RP6"
      },
      "execution_count": null,
      "outputs": []
    }
  ]
}